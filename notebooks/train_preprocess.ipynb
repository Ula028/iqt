{
 "cells": [
  {
   "cell_type": "markdown",
   "metadata": {},
   "source": [
    "# Train and Preprocess\n",
    "Creates training data for IQT random forest training from a HCP dataset."
   ]
  },
  {
   "cell_type": "markdown",
   "metadata": {},
   "source": [
    "## Settings"
   ]
  },
  {
   "cell_type": "code",
   "execution_count": 6,
   "metadata": {},
   "outputs": [],
   "source": [
    "path = \"data\\\\100307_3T_Diffusion_preproc\\\\100307\\\\T1w\\\\Diffusion\\\\\"\n",
    "dw_file = path + \"data.nii.gz\"\n",
    "bvals_file = path + \"bvals\"\n",
    "bvecs_file = path + \"bvecs\"\n",
    "grad_file = path + \"grad_dev.nii.gz\"\n",
    "\n",
    "upsample_rate = 2  # the super-resolution factor (m in paper)\n",
    "input_radius = 2 # the radius of the low-res input patch i.e. the input is a cubic patch of size (2*input_radius+1)^3 (n in paper)\n",
    "datasample_rate = 2  # determines the size of training sets. From each subject, we randomly draw patches with probability 1/datasample_rate\n",
    "no_rnds = 8  # no of separate training sets to be created"
   ]
  },
  {
   "cell_type": "markdown",
   "metadata": {},
   "source": [
    "## Computing DTIs on the original DWIs and its downsampled version"
   ]
  },
  {
   "cell_type": "code",
   "execution_count": 7,
   "metadata": {},
   "outputs": [],
   "source": [
    "from dipy.io.image import load_nifti\n",
    "from dipy.io.gradients import read_bvals_bvecs\n",
    "from dipy.core.gradients import gradient_table\n",
    "from dipy.segment.mask import median_otsu\n",
    "\n",
    "# read in the DWI data\n",
    "data_hr, affine_hr, voxsize = load_nifti(dw_file, return_voxsize=True)\n",
    "# read bvals and bvecs text files\n",
    "bvals, bvecs = read_bvals_bvecs(bvals_file, bvecs_file)\n",
    "gtab = gradient_table(bvals, bvecs)\n",
    "# get the brain mask for high-res DWI\n",
    "maskdata_hr, mask_hr = median_otsu(data_hr, vol_idx=range(10, 50), median_radius=3,\n",
    "                                   numpass=1, autocrop=False, dilate=2)"
   ]
  },
  {
   "cell_type": "markdown",
   "metadata": {},
   "source": [
    "Compute DTI for the original high-res DWI."
   ]
  },
  {
   "cell_type": "code",
   "execution_count": 8,
   "metadata": {},
   "outputs": [
    {
     "ename": "NameError",
     "evalue": "name 'dti' is not defined",
     "output_type": "error",
     "traceback": [
      "\u001b[1;31m---------------------------------------------------------------------------\u001b[0m",
      "\u001b[1;31mNameError\u001b[0m                                 Traceback (most recent call last)",
      "\u001b[1;32m<ipython-input-8-c0b81fef205b>\u001b[0m in \u001b[0;36m<module>\u001b[1;34m\u001b[0m\n\u001b[1;32m----> 1\u001b[1;33m \u001b[0mtenmodel\u001b[0m \u001b[1;33m=\u001b[0m \u001b[0mdti\u001b[0m\u001b[1;33m.\u001b[0m\u001b[0mTensorModel\u001b[0m\u001b[1;33m(\u001b[0m\u001b[0mgtab\u001b[0m\u001b[1;33m)\u001b[0m\u001b[1;33m\u001b[0m\u001b[1;33m\u001b[0m\u001b[0m\n\u001b[0m\u001b[0;32m      2\u001b[0m \u001b[0mprint\u001b[0m\u001b[1;33m(\u001b[0m\u001b[1;34m\"Fitting high resolution DTs...\"\u001b[0m\u001b[1;33m)\u001b[0m\u001b[1;33m\u001b[0m\u001b[1;33m\u001b[0m\u001b[0m\n\u001b[0;32m      3\u001b[0m \u001b[0mtenfit_hr\u001b[0m \u001b[1;33m=\u001b[0m \u001b[0mtenmodel\u001b[0m\u001b[1;33m.\u001b[0m\u001b[0mfit\u001b[0m\u001b[1;33m(\u001b[0m\u001b[0mmaskdata_hr\u001b[0m\u001b[1;33m)\u001b[0m\u001b[1;33m\u001b[0m\u001b[1;33m\u001b[0m\u001b[0m\n\u001b[0;32m      4\u001b[0m \u001b[0mquadratic_tensors_hr\u001b[0m \u001b[1;33m=\u001b[0m \u001b[0mtenfit_hr\u001b[0m\u001b[1;33m.\u001b[0m\u001b[0mquadratic_form\u001b[0m\u001b[1;33m\u001b[0m\u001b[1;33m\u001b[0m\u001b[0m\n\u001b[0;32m      5\u001b[0m \u001b[0mprint\u001b[0m\u001b[1;33m(\u001b[0m\u001b[1;34m\"High resolutions tensors:\"\u001b[0m\u001b[1;33m,\u001b[0m \u001b[0mquadratic_tensors_hr\u001b[0m\u001b[1;33m.\u001b[0m\u001b[0mshape\u001b[0m\u001b[1;33m)\u001b[0m\u001b[1;33m\u001b[0m\u001b[1;33m\u001b[0m\u001b[0m\n",
      "\u001b[1;31mNameError\u001b[0m: name 'dti' is not defined"
     ]
    }
   ],
   "source": [
    "tenmodel = dti.TensorModel(gtab)\n",
    "print(\"Fitting high resolution DTs...\")\n",
    "tenfit_hr = tenmodel.fit(maskdata_hr)\n",
    "quadratic_tensors_hr = tenfit_hr.quadratic_form\n",
    "print(\"High resolutions tensors:\", quadratic_tensors_hr.shape)"
   ]
  },
  {
   "cell_type": "code",
   "execution_count": null,
   "metadata": {},
   "outputs": [],
   "source": []
  }
 ],
 "metadata": {
  "celltoolbar": "Raw Cell Format",
  "kernelspec": {
   "display_name": "Python 3",
   "language": "python",
   "name": "python3"
  },
  "language_info": {
   "codemirror_mode": {
    "name": "ipython",
    "version": 3
   },
   "file_extension": ".py",
   "mimetype": "text/x-python",
   "name": "python",
   "nbconvert_exporter": "python",
   "pygments_lexer": "ipython3",
   "version": "3.8.5"
  }
 },
 "nbformat": 4,
 "nbformat_minor": 2
}
